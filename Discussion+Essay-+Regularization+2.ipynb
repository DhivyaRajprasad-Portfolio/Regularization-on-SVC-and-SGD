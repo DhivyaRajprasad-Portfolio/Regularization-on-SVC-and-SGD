{
 "cells": [
  {
   "cell_type": "code",
   "execution_count": 4,
   "metadata": {
    "collapsed": true
   },
   "outputs": [],
   "source": [
    "import numpy as np"
   ]
  },
  {
   "cell_type": "code",
   "execution_count": 5,
   "metadata": {
    "collapsed": true
   },
   "outputs": [],
   "source": [
    "import pandas as pd"
   ]
  },
  {
   "cell_type": "code",
   "execution_count": 6,
   "metadata": {
    "collapsed": false
   },
   "outputs": [
    {
     "data": {
      "text/html": [
       "<div>\n",
       "<table border=\"1\" class=\"dataframe\">\n",
       "  <thead>\n",
       "    <tr style=\"text-align: right;\">\n",
       "      <th></th>\n",
       "      <th>giver_username_if_known</th>\n",
       "      <th>number_of_downvotes_of_request_at_retrieval</th>\n",
       "      <th>number_of_upvotes_of_request_at_retrieval</th>\n",
       "      <th>post_was_edited</th>\n",
       "      <th>request_id</th>\n",
       "      <th>request_number_of_comments_at_retrieval</th>\n",
       "      <th>request_text</th>\n",
       "      <th>request_text_edit_aware</th>\n",
       "      <th>request_title</th>\n",
       "      <th>requester_account_age_in_days_at_request</th>\n",
       "      <th>...</th>\n",
       "      <th>requester_received_pizza</th>\n",
       "      <th>requester_subreddits_at_request</th>\n",
       "      <th>requester_upvotes_minus_downvotes_at_request</th>\n",
       "      <th>requester_upvotes_minus_downvotes_at_retrieval</th>\n",
       "      <th>requester_upvotes_plus_downvotes_at_request</th>\n",
       "      <th>requester_upvotes_plus_downvotes_at_retrieval</th>\n",
       "      <th>requester_user_flair</th>\n",
       "      <th>requester_username</th>\n",
       "      <th>unix_timestamp_of_request</th>\n",
       "      <th>unix_timestamp_of_request_utc</th>\n",
       "    </tr>\n",
       "  </thead>\n",
       "  <tbody>\n",
       "    <tr>\n",
       "      <th>0</th>\n",
       "      <td>NaN</td>\n",
       "      <td>0</td>\n",
       "      <td>1</td>\n",
       "      <td>false</td>\n",
       "      <td>t3_l25d7</td>\n",
       "      <td>0</td>\n",
       "      <td>Hi I am in need of food for my 4 children we a...</td>\n",
       "      <td>Hi I am in need of food for my 4 children we a...</td>\n",
       "      <td>Request Colorado Springs Help Us Please</td>\n",
       "      <td>0.000000</td>\n",
       "      <td>...</td>\n",
       "      <td>False</td>\n",
       "      <td>NaN</td>\n",
       "      <td>0</td>\n",
       "      <td>1</td>\n",
       "      <td>0</td>\n",
       "      <td>1</td>\n",
       "      <td>NaN</td>\n",
       "      <td>nickylvst</td>\n",
       "      <td>1317852607</td>\n",
       "      <td>1317849007</td>\n",
       "    </tr>\n",
       "    <tr>\n",
       "      <th>1</th>\n",
       "      <td>NaN</td>\n",
       "      <td>2</td>\n",
       "      <td>5</td>\n",
       "      <td>false</td>\n",
       "      <td>t3_rcb83</td>\n",
       "      <td>0</td>\n",
       "      <td>I spent the last money I had on gas today. Im ...</td>\n",
       "      <td>I spent the last money I had on gas today. Im ...</td>\n",
       "      <td>[Request] California, No cash and I could use ...</td>\n",
       "      <td>501.111100</td>\n",
       "      <td>...</td>\n",
       "      <td>False</td>\n",
       "      <td>AskReddit,Eve,IAmA,MontereyBay,RandomKindness,...</td>\n",
       "      <td>34</td>\n",
       "      <td>4258</td>\n",
       "      <td>116</td>\n",
       "      <td>11168</td>\n",
       "      <td>NaN</td>\n",
       "      <td>fohacidal</td>\n",
       "      <td>1332652424</td>\n",
       "      <td>1332648824</td>\n",
       "    </tr>\n",
       "    <tr>\n",
       "      <th>2</th>\n",
       "      <td>NaN</td>\n",
       "      <td>0</td>\n",
       "      <td>3</td>\n",
       "      <td>false</td>\n",
       "      <td>t3_lpu5j</td>\n",
       "      <td>0</td>\n",
       "      <td>My girlfriend decided it would be a good idea ...</td>\n",
       "      <td>My girlfriend decided it would be a good idea ...</td>\n",
       "      <td>[Request] Hungry couple in Dundee, Scotland wo...</td>\n",
       "      <td>0.000000</td>\n",
       "      <td>...</td>\n",
       "      <td>False</td>\n",
       "      <td>NaN</td>\n",
       "      <td>0</td>\n",
       "      <td>3</td>\n",
       "      <td>0</td>\n",
       "      <td>3</td>\n",
       "      <td>NaN</td>\n",
       "      <td>jacquibatman7</td>\n",
       "      <td>1319650094</td>\n",
       "      <td>1319646494</td>\n",
       "    </tr>\n",
       "    <tr>\n",
       "      <th>3</th>\n",
       "      <td>NaN</td>\n",
       "      <td>0</td>\n",
       "      <td>1</td>\n",
       "      <td>true</td>\n",
       "      <td>t3_mxvj3</td>\n",
       "      <td>4</td>\n",
       "      <td>It's cold, I'n hungry, and to be completely ho...</td>\n",
       "      <td>It's cold, I'n hungry, and to be completely ho...</td>\n",
       "      <td>[Request] In Canada (Ontario), just got home f...</td>\n",
       "      <td>6.518438</td>\n",
       "      <td>...</td>\n",
       "      <td>False</td>\n",
       "      <td>AskReddit,DJs,IAmA,Random_Acts_Of_Pizza</td>\n",
       "      <td>54</td>\n",
       "      <td>59</td>\n",
       "      <td>76</td>\n",
       "      <td>81</td>\n",
       "      <td>NaN</td>\n",
       "      <td>4on_the_floor</td>\n",
       "      <td>1322855434</td>\n",
       "      <td>1322855434</td>\n",
       "    </tr>\n",
       "    <tr>\n",
       "      <th>4</th>\n",
       "      <td>NaN</td>\n",
       "      <td>6</td>\n",
       "      <td>6</td>\n",
       "      <td>false</td>\n",
       "      <td>t3_1i6486</td>\n",
       "      <td>5</td>\n",
       "      <td>hey guys:\\r\\n I love this sub. I think it's gr...</td>\n",
       "      <td>hey guys:\\r\\n I love this sub. I think it's gr...</td>\n",
       "      <td>[Request] Old friend coming to visit. Would LO...</td>\n",
       "      <td>162.063252</td>\n",
       "      <td>...</td>\n",
       "      <td>False</td>\n",
       "      <td>GayBrosWeightLoss,RandomActsOfCookies,Random_A...</td>\n",
       "      <td>1121</td>\n",
       "      <td>1225</td>\n",
       "      <td>1733</td>\n",
       "      <td>1887</td>\n",
       "      <td>NaN</td>\n",
       "      <td>Futuredogwalker</td>\n",
       "      <td>1373657691</td>\n",
       "      <td>1373654091</td>\n",
       "    </tr>\n",
       "  </tbody>\n",
       "</table>\n",
       "<p>5 rows × 32 columns</p>\n",
       "</div>"
      ],
      "text/plain": [
       "  giver_username_if_known  number_of_downvotes_of_request_at_retrieval  \\\n",
       "0                     NaN                                            0   \n",
       "1                     NaN                                            2   \n",
       "2                     NaN                                            0   \n",
       "3                     NaN                                            0   \n",
       "4                     NaN                                            6   \n",
       "\n",
       "   number_of_upvotes_of_request_at_retrieval post_was_edited request_id  \\\n",
       "0                                          1           false   t3_l25d7   \n",
       "1                                          5           false   t3_rcb83   \n",
       "2                                          3           false   t3_lpu5j   \n",
       "3                                          1            true   t3_mxvj3   \n",
       "4                                          6           false  t3_1i6486   \n",
       "\n",
       "   request_number_of_comments_at_retrieval  \\\n",
       "0                                        0   \n",
       "1                                        0   \n",
       "2                                        0   \n",
       "3                                        4   \n",
       "4                                        5   \n",
       "\n",
       "                                        request_text  \\\n",
       "0  Hi I am in need of food for my 4 children we a...   \n",
       "1  I spent the last money I had on gas today. Im ...   \n",
       "2  My girlfriend decided it would be a good idea ...   \n",
       "3  It's cold, I'n hungry, and to be completely ho...   \n",
       "4  hey guys:\\r\\n I love this sub. I think it's gr...   \n",
       "\n",
       "                             request_text_edit_aware  \\\n",
       "0  Hi I am in need of food for my 4 children we a...   \n",
       "1  I spent the last money I had on gas today. Im ...   \n",
       "2  My girlfriend decided it would be a good idea ...   \n",
       "3  It's cold, I'n hungry, and to be completely ho...   \n",
       "4  hey guys:\\r\\n I love this sub. I think it's gr...   \n",
       "\n",
       "                                       request_title  \\\n",
       "0            Request Colorado Springs Help Us Please   \n",
       "1  [Request] California, No cash and I could use ...   \n",
       "2  [Request] Hungry couple in Dundee, Scotland wo...   \n",
       "3  [Request] In Canada (Ontario), just got home f...   \n",
       "4  [Request] Old friend coming to visit. Would LO...   \n",
       "\n",
       "   requester_account_age_in_days_at_request              ...                \\\n",
       "0                                  0.000000              ...                 \n",
       "1                                501.111100              ...                 \n",
       "2                                  0.000000              ...                 \n",
       "3                                  6.518438              ...                 \n",
       "4                                162.063252              ...                 \n",
       "\n",
       "   requester_received_pizza  \\\n",
       "0                     False   \n",
       "1                     False   \n",
       "2                     False   \n",
       "3                     False   \n",
       "4                     False   \n",
       "\n",
       "                     requester_subreddits_at_request  \\\n",
       "0                                                NaN   \n",
       "1  AskReddit,Eve,IAmA,MontereyBay,RandomKindness,...   \n",
       "2                                                NaN   \n",
       "3            AskReddit,DJs,IAmA,Random_Acts_Of_Pizza   \n",
       "4  GayBrosWeightLoss,RandomActsOfCookies,Random_A...   \n",
       "\n",
       "   requester_upvotes_minus_downvotes_at_request  \\\n",
       "0                                             0   \n",
       "1                                            34   \n",
       "2                                             0   \n",
       "3                                            54   \n",
       "4                                          1121   \n",
       "\n",
       "   requester_upvotes_minus_downvotes_at_retrieval  \\\n",
       "0                                               1   \n",
       "1                                            4258   \n",
       "2                                               3   \n",
       "3                                              59   \n",
       "4                                            1225   \n",
       "\n",
       "   requester_upvotes_plus_downvotes_at_request  \\\n",
       "0                                            0   \n",
       "1                                          116   \n",
       "2                                            0   \n",
       "3                                           76   \n",
       "4                                         1733   \n",
       "\n",
       "   requester_upvotes_plus_downvotes_at_retrieval  requester_user_flair  \\\n",
       "0                                              1                   NaN   \n",
       "1                                          11168                   NaN   \n",
       "2                                              3                   NaN   \n",
       "3                                             81                   NaN   \n",
       "4                                           1887                   NaN   \n",
       "\n",
       "   requester_username  unix_timestamp_of_request  \\\n",
       "0           nickylvst                 1317852607   \n",
       "1           fohacidal                 1332652424   \n",
       "2       jacquibatman7                 1319650094   \n",
       "3       4on_the_floor                 1322855434   \n",
       "4     Futuredogwalker                 1373657691   \n",
       "\n",
       "   unix_timestamp_of_request_utc  \n",
       "0                     1317849007  \n",
       "1                     1332648824  \n",
       "2                     1319646494  \n",
       "3                     1322855434  \n",
       "4                     1373654091  \n",
       "\n",
       "[5 rows x 32 columns]"
      ]
     },
     "execution_count": 6,
     "metadata": {},
     "output_type": "execute_result"
    }
   ],
   "source": [
    "df= pd.read_csv('PizzaTrain.csv')\n",
    "df.head()"
   ]
  },
  {
   "cell_type": "code",
   "execution_count": 7,
   "metadata": {
    "collapsed": false
   },
   "outputs": [],
   "source": [
    "drop_columns = [\"giver_username_if_known\", \"post_was_edited\",\"request_id\",\"requester_username\",\"unix_timestamp_of_request\",\n",
    "                \"unix_timestamp_of_request_utc\",\"request_text_edit_aware\",\"requester_user_flair\"]\n",
    "df.drop(drop_columns,inplace=True,axis=1)"
   ]
  },
  {
   "cell_type": "code",
   "execution_count": 8,
   "metadata": {
    "collapsed": false
   },
   "outputs": [
    {
     "data": {
      "text/html": [
       "<div>\n",
       "<table border=\"1\" class=\"dataframe\">\n",
       "  <thead>\n",
       "    <tr style=\"text-align: right;\">\n",
       "      <th></th>\n",
       "      <th>number_of_downvotes_of_request_at_retrieval</th>\n",
       "      <th>number_of_upvotes_of_request_at_retrieval</th>\n",
       "      <th>request_number_of_comments_at_retrieval</th>\n",
       "      <th>request_text</th>\n",
       "      <th>request_title</th>\n",
       "      <th>requester_account_age_in_days_at_request</th>\n",
       "      <th>requester_account_age_in_days_at_retrieval</th>\n",
       "      <th>requester_days_since_first_post_on_raop_at_request</th>\n",
       "      <th>requester_days_since_first_post_on_raop_at_retrieval</th>\n",
       "      <th>requester_number_of_comments_at_request</th>\n",
       "      <th>...</th>\n",
       "      <th>requester_number_of_posts_at_retrieval</th>\n",
       "      <th>requester_number_of_posts_on_raop_at_request</th>\n",
       "      <th>requester_number_of_posts_on_raop_at_retrieval</th>\n",
       "      <th>requester_number_of_subreddits_at_request</th>\n",
       "      <th>requester_received_pizza</th>\n",
       "      <th>requester_subreddits_at_request</th>\n",
       "      <th>requester_upvotes_minus_downvotes_at_request</th>\n",
       "      <th>requester_upvotes_minus_downvotes_at_retrieval</th>\n",
       "      <th>requester_upvotes_plus_downvotes_at_request</th>\n",
       "      <th>requester_upvotes_plus_downvotes_at_retrieval</th>\n",
       "    </tr>\n",
       "  </thead>\n",
       "  <tbody>\n",
       "    <tr>\n",
       "      <th>0</th>\n",
       "      <td>0</td>\n",
       "      <td>1</td>\n",
       "      <td>0</td>\n",
       "      <td>Hi I am in need of food for my 4 children we a...</td>\n",
       "      <td>Request Colorado Springs Help Us Please</td>\n",
       "      <td>0.000000</td>\n",
       "      <td>792.420405</td>\n",
       "      <td>0.000000</td>\n",
       "      <td>792.420405</td>\n",
       "      <td>0</td>\n",
       "      <td>...</td>\n",
       "      <td>1</td>\n",
       "      <td>0</td>\n",
       "      <td>1</td>\n",
       "      <td>0</td>\n",
       "      <td>False</td>\n",
       "      <td>NaN</td>\n",
       "      <td>0</td>\n",
       "      <td>1</td>\n",
       "      <td>0</td>\n",
       "      <td>1</td>\n",
       "    </tr>\n",
       "    <tr>\n",
       "      <th>1</th>\n",
       "      <td>2</td>\n",
       "      <td>5</td>\n",
       "      <td>0</td>\n",
       "      <td>I spent the last money I had on gas today. Im ...</td>\n",
       "      <td>[Request] California, No cash and I could use ...</td>\n",
       "      <td>501.111100</td>\n",
       "      <td>1122.279838</td>\n",
       "      <td>0.000000</td>\n",
       "      <td>621.127072</td>\n",
       "      <td>0</td>\n",
       "      <td>...</td>\n",
       "      <td>26</td>\n",
       "      <td>0</td>\n",
       "      <td>2</td>\n",
       "      <td>12</td>\n",
       "      <td>False</td>\n",
       "      <td>AskReddit,Eve,IAmA,MontereyBay,RandomKindness,...</td>\n",
       "      <td>34</td>\n",
       "      <td>4258</td>\n",
       "      <td>116</td>\n",
       "      <td>11168</td>\n",
       "    </tr>\n",
       "    <tr>\n",
       "      <th>2</th>\n",
       "      <td>0</td>\n",
       "      <td>3</td>\n",
       "      <td>0</td>\n",
       "      <td>My girlfriend decided it would be a good idea ...</td>\n",
       "      <td>[Request] Hungry couple in Dundee, Scotland wo...</td>\n",
       "      <td>0.000000</td>\n",
       "      <td>771.616181</td>\n",
       "      <td>0.000000</td>\n",
       "      <td>771.616181</td>\n",
       "      <td>0</td>\n",
       "      <td>...</td>\n",
       "      <td>1</td>\n",
       "      <td>0</td>\n",
       "      <td>1</td>\n",
       "      <td>0</td>\n",
       "      <td>False</td>\n",
       "      <td>NaN</td>\n",
       "      <td>0</td>\n",
       "      <td>3</td>\n",
       "      <td>0</td>\n",
       "      <td>3</td>\n",
       "    </tr>\n",
       "    <tr>\n",
       "      <th>3</th>\n",
       "      <td>0</td>\n",
       "      <td>1</td>\n",
       "      <td>4</td>\n",
       "      <td>It's cold, I'n hungry, and to be completely ho...</td>\n",
       "      <td>[Request] In Canada (Ontario), just got home f...</td>\n",
       "      <td>6.518438</td>\n",
       "      <td>741.035602</td>\n",
       "      <td>0.000000</td>\n",
       "      <td>734.517164</td>\n",
       "      <td>36</td>\n",
       "      <td>...</td>\n",
       "      <td>2</td>\n",
       "      <td>0</td>\n",
       "      <td>1</td>\n",
       "      <td>4</td>\n",
       "      <td>False</td>\n",
       "      <td>AskReddit,DJs,IAmA,Random_Acts_Of_Pizza</td>\n",
       "      <td>54</td>\n",
       "      <td>59</td>\n",
       "      <td>76</td>\n",
       "      <td>81</td>\n",
       "    </tr>\n",
       "    <tr>\n",
       "      <th>4</th>\n",
       "      <td>6</td>\n",
       "      <td>6</td>\n",
       "      <td>5</td>\n",
       "      <td>hey guys:\\r\\n I love this sub. I think it's gr...</td>\n",
       "      <td>[Request] Old friend coming to visit. Would LO...</td>\n",
       "      <td>162.063252</td>\n",
       "      <td>308.633819</td>\n",
       "      <td>101.606505</td>\n",
       "      <td>248.177072</td>\n",
       "      <td>140</td>\n",
       "      <td>...</td>\n",
       "      <td>16</td>\n",
       "      <td>0</td>\n",
       "      <td>1</td>\n",
       "      <td>11</td>\n",
       "      <td>False</td>\n",
       "      <td>GayBrosWeightLoss,RandomActsOfCookies,Random_A...</td>\n",
       "      <td>1121</td>\n",
       "      <td>1225</td>\n",
       "      <td>1733</td>\n",
       "      <td>1887</td>\n",
       "    </tr>\n",
       "  </tbody>\n",
       "</table>\n",
       "<p>5 rows × 24 columns</p>\n",
       "</div>"
      ],
      "text/plain": [
       "   number_of_downvotes_of_request_at_retrieval  \\\n",
       "0                                            0   \n",
       "1                                            2   \n",
       "2                                            0   \n",
       "3                                            0   \n",
       "4                                            6   \n",
       "\n",
       "   number_of_upvotes_of_request_at_retrieval  \\\n",
       "0                                          1   \n",
       "1                                          5   \n",
       "2                                          3   \n",
       "3                                          1   \n",
       "4                                          6   \n",
       "\n",
       "   request_number_of_comments_at_retrieval  \\\n",
       "0                                        0   \n",
       "1                                        0   \n",
       "2                                        0   \n",
       "3                                        4   \n",
       "4                                        5   \n",
       "\n",
       "                                        request_text  \\\n",
       "0  Hi I am in need of food for my 4 children we a...   \n",
       "1  I spent the last money I had on gas today. Im ...   \n",
       "2  My girlfriend decided it would be a good idea ...   \n",
       "3  It's cold, I'n hungry, and to be completely ho...   \n",
       "4  hey guys:\\r\\n I love this sub. I think it's gr...   \n",
       "\n",
       "                                       request_title  \\\n",
       "0            Request Colorado Springs Help Us Please   \n",
       "1  [Request] California, No cash and I could use ...   \n",
       "2  [Request] Hungry couple in Dundee, Scotland wo...   \n",
       "3  [Request] In Canada (Ontario), just got home f...   \n",
       "4  [Request] Old friend coming to visit. Would LO...   \n",
       "\n",
       "   requester_account_age_in_days_at_request  \\\n",
       "0                                  0.000000   \n",
       "1                                501.111100   \n",
       "2                                  0.000000   \n",
       "3                                  6.518438   \n",
       "4                                162.063252   \n",
       "\n",
       "   requester_account_age_in_days_at_retrieval  \\\n",
       "0                                  792.420405   \n",
       "1                                 1122.279838   \n",
       "2                                  771.616181   \n",
       "3                                  741.035602   \n",
       "4                                  308.633819   \n",
       "\n",
       "   requester_days_since_first_post_on_raop_at_request  \\\n",
       "0                                           0.000000    \n",
       "1                                           0.000000    \n",
       "2                                           0.000000    \n",
       "3                                           0.000000    \n",
       "4                                         101.606505    \n",
       "\n",
       "   requester_days_since_first_post_on_raop_at_retrieval  \\\n",
       "0                                         792.420405      \n",
       "1                                         621.127072      \n",
       "2                                         771.616181      \n",
       "3                                         734.517164      \n",
       "4                                         248.177072      \n",
       "\n",
       "   requester_number_of_comments_at_request  \\\n",
       "0                                        0   \n",
       "1                                        0   \n",
       "2                                        0   \n",
       "3                                       36   \n",
       "4                                      140   \n",
       "\n",
       "                       ...                       \\\n",
       "0                      ...                        \n",
       "1                      ...                        \n",
       "2                      ...                        \n",
       "3                      ...                        \n",
       "4                      ...                        \n",
       "\n",
       "   requester_number_of_posts_at_retrieval  \\\n",
       "0                                       1   \n",
       "1                                      26   \n",
       "2                                       1   \n",
       "3                                       2   \n",
       "4                                      16   \n",
       "\n",
       "   requester_number_of_posts_on_raop_at_request  \\\n",
       "0                                             0   \n",
       "1                                             0   \n",
       "2                                             0   \n",
       "3                                             0   \n",
       "4                                             0   \n",
       "\n",
       "   requester_number_of_posts_on_raop_at_retrieval  \\\n",
       "0                                               1   \n",
       "1                                               2   \n",
       "2                                               1   \n",
       "3                                               1   \n",
       "4                                               1   \n",
       "\n",
       "   requester_number_of_subreddits_at_request  requester_received_pizza  \\\n",
       "0                                          0                     False   \n",
       "1                                         12                     False   \n",
       "2                                          0                     False   \n",
       "3                                          4                     False   \n",
       "4                                         11                     False   \n",
       "\n",
       "                     requester_subreddits_at_request  \\\n",
       "0                                                NaN   \n",
       "1  AskReddit,Eve,IAmA,MontereyBay,RandomKindness,...   \n",
       "2                                                NaN   \n",
       "3            AskReddit,DJs,IAmA,Random_Acts_Of_Pizza   \n",
       "4  GayBrosWeightLoss,RandomActsOfCookies,Random_A...   \n",
       "\n",
       "   requester_upvotes_minus_downvotes_at_request  \\\n",
       "0                                             0   \n",
       "1                                            34   \n",
       "2                                             0   \n",
       "3                                            54   \n",
       "4                                          1121   \n",
       "\n",
       "   requester_upvotes_minus_downvotes_at_retrieval  \\\n",
       "0                                               1   \n",
       "1                                            4258   \n",
       "2                                               3   \n",
       "3                                              59   \n",
       "4                                            1225   \n",
       "\n",
       "  requester_upvotes_plus_downvotes_at_request  \\\n",
       "0                                           0   \n",
       "1                                         116   \n",
       "2                                           0   \n",
       "3                                          76   \n",
       "4                                        1733   \n",
       "\n",
       "  requester_upvotes_plus_downvotes_at_retrieval  \n",
       "0                                             1  \n",
       "1                                         11168  \n",
       "2                                             3  \n",
       "3                                            81  \n",
       "4                                          1887  \n",
       "\n",
       "[5 rows x 24 columns]"
      ]
     },
     "execution_count": 8,
     "metadata": {},
     "output_type": "execute_result"
    }
   ],
   "source": [
    "df.head()\n"
   ]
  },
  {
   "cell_type": "code",
   "execution_count": 9,
   "metadata": {
    "collapsed": true
   },
   "outputs": [],
   "source": [
    "text_columns = [\"request_text\",\"request_title\",\"requester_subreddits_at_request\"]\n",
    "\n",
    "df_text = df[text_columns].copy()\n",
    "df_text['concat'] = df_text.apply(lambda x: ' '.join([str(y) for y in x if not pd.isnull(y)]), axis=1)\n",
    "df_text.drop(text_columns, inplace=True, axis=1)\n",
    "\n",
    "df_num = df.drop(text_columns, axis=1)\n",
    "\n",
    "y = df_num[\"requester_received_pizza\"].astype(int)"
   ]
  },
  {
   "cell_type": "code",
   "execution_count": 10,
   "metadata": {
    "collapsed": true
   },
   "outputs": [],
   "source": [
    "df_num.drop(\"requester_received_pizza\", inplace=True, axis=1)"
   ]
  },
  {
   "cell_type": "code",
   "execution_count": 11,
   "metadata": {
    "collapsed": true
   },
   "outputs": [],
   "source": [
    "df_num_mat = df_num.as_matrix(columns=None)"
   ]
  },
  {
   "cell_type": "code",
   "execution_count": 12,
   "metadata": {
    "collapsed": false
   },
   "outputs": [
    {
     "data": {
      "text/plain": [
       "numpy.ndarray"
      ]
     },
     "execution_count": 12,
     "metadata": {},
     "output_type": "execute_result"
    }
   ],
   "source": [
    "type(df_num_mat)"
   ]
  },
  {
   "cell_type": "code",
   "execution_count": 13,
   "metadata": {
    "collapsed": false
   },
   "outputs": [
    {
     "data": {
      "text/plain": [
       "<4040x19956 sparse matrix of type '<type 'numpy.float64'>'\n",
       "\twith 322827 stored elements in Compressed Sparse Row format>"
      ]
     },
     "execution_count": 13,
     "metadata": {},
     "output_type": "execute_result"
    }
   ],
   "source": [
    "from sklearn.feature_extraction.text import TfidfVectorizer\n",
    "vectorizer = TfidfVectorizer()\n",
    "text_matrix = vectorizer.fit_transform(np.asarray(df_text['concat']))\n",
    "text_matrix"
   ]
  },
  {
   "cell_type": "code",
   "execution_count": 14,
   "metadata": {
    "collapsed": false
   },
   "outputs": [
    {
     "data": {
      "text/plain": [
       "(4040, 19976)"
      ]
     },
     "execution_count": 14,
     "metadata": {},
     "output_type": "execute_result"
    }
   ],
   "source": [
    "from scipy import sparse\n",
    "df_num_mat_sp = sparse.coo_matrix(df_num_mat)\n",
    "train = sparse.hstack([df_num_mat_sp,text_matrix])\n",
    "train.shape"
   ]
  },
  {
   "cell_type": "code",
   "execution_count": 15,
   "metadata": {
    "collapsed": true
   },
   "outputs": [],
   "source": [
    "from sklearn import model_selection\n",
    "Xtrain,Xtest,Ytrain,Ytest = model_selection.train_test_split(train,y,test_size=0.25,random_state=1992)"
   ]
  },
  {
   "cell_type": "code",
   "execution_count": 16,
   "metadata": {
    "collapsed": true
   },
   "outputs": [],
   "source": [
    "from sklearn.svm import LinearSVC\n",
    "\n",
    "clf = LinearSVC(penalty='l1', dual=False)\n",
    "class_svm = clf.fit(Xtrain, Ytrain)"
   ]
  },
  {
   "cell_type": "code",
   "execution_count": 17,
   "metadata": {
    "collapsed": false
   },
   "outputs": [
    {
     "name": "stdout",
     "output_type": "stream",
     "text": [
      "[0 1]\n",
      "[0 1]\n"
     ]
    }
   ],
   "source": [
    "pred_train_svm = class_svm.predict(Xtrain)\n",
    "# Test to check whether our classifier makes prediction across all categories\n",
    "print(np.unique(pred_train_svm))  \n",
    "pred_test_svm = class_svm.predict(Xtest)\n",
    "# Test to check whether our classifier makes prediction across all categories\n",
    "print(np.unique(pred_test_svm)) "
   ]
  },
  {
   "cell_type": "code",
   "execution_count": 18,
   "metadata": {
    "collapsed": false
   },
   "outputs": [
    {
     "name": "stdout",
     "output_type": "stream",
     "text": [
      "                precision    recall  f1-score   support\n",
      "\n",
      "not received-0       0.91      0.97      0.94      2294\n",
      "    received-1       0.88      0.69      0.78       736\n",
      "\n",
      "   avg / total       0.90      0.90      0.90      3030\n",
      "\n",
      "                precision    recall  f1-score   support\n",
      "\n",
      "not received-0       0.86      0.94      0.90       752\n",
      "    received-1       0.76      0.54      0.63       258\n",
      "\n",
      "   avg / total       0.83      0.84      0.83      1010\n",
      "\n"
     ]
    }
   ],
   "source": [
    "from sklearn.metrics import classification_report\n",
    "target_names = ['not received-0', 'received-1']\n",
    "print(classification_report(y_pred = pred_train_svm, y_true=Ytrain, target_names=target_names))\n",
    "print(classification_report(y_pred = pred_test_svm, y_true=Ytest, target_names=target_names))"
   ]
  },
  {
   "cell_type": "code",
   "execution_count": 19,
   "metadata": {
    "collapsed": false
   },
   "outputs": [
    {
     "name": "stdout",
     "output_type": "stream",
     "text": [
      "[[2224   70]\n",
      " [ 226  510]]\n",
      "[[709  43]\n",
      " [119 139]]\n"
     ]
    }
   ],
   "source": [
    "from sklearn.metrics import confusion_matrix\n",
    "print(confusion_matrix(Ytrain, pred_train_svm))\n",
    "print(confusion_matrix(Ytest, pred_test_svm))"
   ]
  },
  {
   "cell_type": "code",
   "execution_count": 20,
   "metadata": {
    "collapsed": true
   },
   "outputs": [],
   "source": [
    "from sklearn.svm import LinearSVC\n",
    "\n",
    "clf = LinearSVC(penalty='l2')\n",
    "class_svm = clf.fit(Xtrain, Ytrain)"
   ]
  },
  {
   "cell_type": "code",
   "execution_count": 21,
   "metadata": {
    "collapsed": false
   },
   "outputs": [
    {
     "name": "stdout",
     "output_type": "stream",
     "text": [
      "[0 1]\n",
      "[0 1]\n"
     ]
    }
   ],
   "source": [
    "pred_train_svm = class_svm.predict(Xtrain)\n",
    "# Test to check whether our classifier makes prediction across all categories\n",
    "print(np.unique(pred_train_svm))  \n",
    "pred_test_svm = class_svm.predict(Xtest)\n",
    "# Test to check whether our classifier makes prediction across all categories\n",
    "print(np.unique(pred_test_svm)) "
   ]
  },
  {
   "cell_type": "code",
   "execution_count": 22,
   "metadata": {
    "collapsed": false
   },
   "outputs": [
    {
     "name": "stdout",
     "output_type": "stream",
     "text": [
      "                precision    recall  f1-score   support\n",
      "\n",
      "not received-0       0.80      0.60      0.68      2294\n",
      "    received-1       0.29      0.52      0.38       736\n",
      "\n",
      "   avg / total       0.67      0.58      0.61      3030\n",
      "\n",
      "                precision    recall  f1-score   support\n",
      "\n",
      "not received-0       0.80      0.60      0.68       752\n",
      "    received-1       0.32      0.57      0.41       258\n",
      "\n",
      "   avg / total       0.68      0.59      0.61      1010\n",
      "\n"
     ]
    }
   ],
   "source": [
    "from sklearn.metrics import classification_report\n",
    "target_names = ['not received-0', 'received-1']\n",
    "print(classification_report(y_pred = pred_train_svm, y_true=Ytrain, target_names=target_names))\n",
    "print(classification_report(y_pred = pred_test_svm, y_true=Ytest, target_names=target_names))"
   ]
  },
  {
   "cell_type": "code",
   "execution_count": 23,
   "metadata": {
    "collapsed": false
   },
   "outputs": [
    {
     "name": "stdout",
     "output_type": "stream",
     "text": [
      "[[1366  928]\n",
      " [ 352  384]]\n",
      "[[448 304]\n",
      " [112 146]]\n"
     ]
    }
   ],
   "source": [
    "from sklearn.metrics import confusion_matrix\n",
    "print(confusion_matrix(Ytrain, pred_train_svm))\n",
    "print(confusion_matrix(Ytest, pred_test_svm))"
   ]
  },
  {
   "cell_type": "code",
   "execution_count": 24,
   "metadata": {
    "collapsed": false
   },
   "outputs": [],
   "source": [
    "from sklearn import linear_model\n",
    "from sklearn.linear_model import SGDClassifier\n",
    "\n",
    "clf_sgd = SGDClassifier(penalty='l1')\n",
    "class_sgd = clf_sgd.fit(Xtrain, Ytrain)"
   ]
  },
  {
   "cell_type": "code",
   "execution_count": 25,
   "metadata": {
    "collapsed": false
   },
   "outputs": [
    {
     "name": "stdout",
     "output_type": "stream",
     "text": [
      "[0 1]\n",
      "[0 1]\n"
     ]
    }
   ],
   "source": [
    "pred_train_sgd = class_sgd.predict(Xtrain)\n",
    "\n",
    "print(np.unique(pred_train_sgd))  \n",
    "pred_test_sgd = class_sgd.predict(Xtest)\n",
    "\n",
    "print(np.unique(pred_test_sgd)) "
   ]
  },
  {
   "cell_type": "code",
   "execution_count": 26,
   "metadata": {
    "collapsed": false
   },
   "outputs": [
    {
     "name": "stdout",
     "output_type": "stream",
     "text": [
      "                precision    recall  f1-score   support\n",
      "\n",
      "not received-0       0.74      0.90      0.81      2294\n",
      "    received-1       0.06      0.02      0.03       736\n",
      "\n",
      "   avg / total       0.57      0.69      0.62      3030\n",
      "\n",
      "                precision    recall  f1-score   support\n",
      "\n",
      "not received-0       0.73      0.92      0.81       752\n",
      "    received-1       0.08      0.02      0.03       258\n",
      "\n",
      "   avg / total       0.56      0.69      0.61      1010\n",
      "\n"
     ]
    }
   ],
   "source": [
    "from sklearn.metrics import classification_report\n",
    "target_names = ['not received-0', 'received-1']\n",
    "print(classification_report(y_pred = pred_train_sgd, \n",
    "                            y_true=Ytrain, target_names=target_names))\n",
    "print(classification_report(y_pred = pred_test_sgd, \n",
    "                            y_true=Ytest, target_names=target_names))"
   ]
  },
  {
   "cell_type": "code",
   "execution_count": 27,
   "metadata": {
    "collapsed": false
   },
   "outputs": [
    {
     "name": "stdout",
     "output_type": "stream",
     "text": [
      "[[2063  231]\n",
      " [ 722   14]]\n",
      "[[691  61]\n",
      " [253   5]]\n"
     ]
    }
   ],
   "source": [
    "from sklearn.metrics import confusion_matrix\n",
    "print(confusion_matrix(Ytrain, pred_train_sgd))\n",
    "print(confusion_matrix(Ytest, pred_test_sgd))"
   ]
  },
  {
   "cell_type": "code",
   "execution_count": 28,
   "metadata": {
    "collapsed": true
   },
   "outputs": [],
   "source": [
    "from sklearn.linear_model import SGDClassifier\n",
    "\n",
    "clf_sgd = SGDClassifier(penalty='l2')\n",
    "class_sgd = clf_sgd.fit(Xtrain, Ytrain)"
   ]
  },
  {
   "cell_type": "code",
   "execution_count": 29,
   "metadata": {
    "collapsed": false
   },
   "outputs": [
    {
     "name": "stdout",
     "output_type": "stream",
     "text": [
      "[0 1]\n",
      "[0 1]\n"
     ]
    }
   ],
   "source": [
    "pred_train_sgd = class_sgd.predict(Xtrain)\n",
    "print(np.unique(pred_train_sgd))  \n",
    "pred_test_sgd = class_sgd.predict(Xtest)\n",
    "print(np.unique(pred_test_sgd)) "
   ]
  },
  {
   "cell_type": "code",
   "execution_count": 30,
   "metadata": {
    "collapsed": false
   },
   "outputs": [
    {
     "name": "stdout",
     "output_type": "stream",
     "text": [
      "                precision    recall  f1-score   support\n",
      "\n",
      "not received-0       0.72      0.71      0.72      2294\n",
      "    received-1       0.15      0.16      0.15       736\n",
      "\n",
      "   avg / total       0.58      0.57      0.58      3030\n",
      "\n",
      "                precision    recall  f1-score   support\n",
      "\n",
      "not received-0       0.71      0.72      0.71       752\n",
      "    received-1       0.14      0.14      0.14       258\n",
      "\n",
      "   avg / total       0.56      0.57      0.57      1010\n",
      "\n"
     ]
    }
   ],
   "source": [
    "from sklearn.metrics import classification_report\n",
    "target_names = ['not received-0', 'received-1']\n",
    "print(classification_report(y_pred = pred_train_sgd, y_true=Ytrain, target_names=target_names))\n",
    "print(classification_report(y_pred = pred_test_sgd, y_true=Ytest, target_names=target_names))"
   ]
  },
  {
   "cell_type": "code",
   "execution_count": 31,
   "metadata": {
    "collapsed": false
   },
   "outputs": [
    {
     "name": "stdout",
     "output_type": "stream",
     "text": [
      "[[1625  669]\n",
      " [ 621  115]]\n",
      "[[541 211]\n",
      " [223  35]]\n"
     ]
    }
   ],
   "source": [
    "from sklearn.metrics import confusion_matrix\n",
    "print(confusion_matrix(Ytrain, pred_train_sgd))\n",
    "print(confusion_matrix(Ytest, pred_test_sgd))"
   ]
  },
  {
   "cell_type": "code",
   "execution_count": 32,
   "metadata": {
    "collapsed": true
   },
   "outputs": [],
   "source": [
    "from sklearn.linear_model import SGDClassifier\n",
    "\n",
    "clf_sgd = SGDClassifier(penalty='elasticnet')\n",
    "class_sgd = clf_sgd.fit(Xtrain, Ytrain)"
   ]
  },
  {
   "cell_type": "code",
   "execution_count": 33,
   "metadata": {
    "collapsed": false
   },
   "outputs": [
    {
     "name": "stdout",
     "output_type": "stream",
     "text": [
      "[0 1]\n",
      "[0 1]\n"
     ]
    }
   ],
   "source": [
    "pred_train_sgd = class_sgd.predict(Xtrain)\n",
    "\n",
    "print(np.unique(pred_train_sgd))  \n",
    "pred_test_sgd = class_sgd.predict(Xtest)\n",
    "\n",
    "print(np.unique(pred_test_sgd)) "
   ]
  },
  {
   "cell_type": "code",
   "execution_count": 34,
   "metadata": {
    "collapsed": false
   },
   "outputs": [
    {
     "name": "stdout",
     "output_type": "stream",
     "text": [
      "                precision    recall  f1-score   support\n",
      "\n",
      "not received-0       0.76      1.00      0.86      2294\n",
      "    received-1       0.17      0.00      0.00       736\n",
      "\n",
      "   avg / total       0.61      0.76      0.65      3030\n",
      "\n",
      "                precision    recall  f1-score   support\n",
      "\n",
      "not received-0       0.74      1.00      0.85       752\n",
      "    received-1       0.00      0.00      0.00       258\n",
      "\n",
      "   avg / total       0.55      0.74      0.64      1010\n",
      "\n"
     ]
    }
   ],
   "source": [
    "from sklearn.metrics import classification_report\n",
    "target_names = ['not received-0', 'received-1']\n",
    "print(classification_report(y_pred = pred_train_sgd, y_true=Ytrain, target_names=target_names))\n",
    "print(classification_report(y_pred = pred_test_sgd, y_true=Ytest, target_names=target_names))"
   ]
  },
  {
   "cell_type": "code",
   "execution_count": 35,
   "metadata": {
    "collapsed": false
   },
   "outputs": [
    {
     "name": "stdout",
     "output_type": "stream",
     "text": [
      "[[2289    5]\n",
      " [ 735    1]]\n",
      "[[751   1]\n",
      " [258   0]]\n"
     ]
    }
   ],
   "source": [
    "from sklearn.metrics import confusion_matrix\n",
    "print(confusion_matrix(Ytrain, pred_train_sgd))\n",
    "print(confusion_matrix(Ytest, pred_test_sgd))"
   ]
  },
  {
   "cell_type": "code",
   "execution_count": 37,
   "metadata": {
    "collapsed": true
   },
   "outputs": [],
   "source": [
    "from sklearn.linear_model import SGDClassifier\n",
    "\n",
    "clf_sgd = SGDClassifier(penalty='none')\n",
    "class_sgd = clf_sgd.fit(Xtrain, Ytrain)"
   ]
  },
  {
   "cell_type": "code",
   "execution_count": 38,
   "metadata": {
    "collapsed": false
   },
   "outputs": [
    {
     "name": "stdout",
     "output_type": "stream",
     "text": [
      "[0 1]\n",
      "[0 1]\n"
     ]
    }
   ],
   "source": [
    "pred_train_sgd = class_sgd.predict(Xtrain)\n",
    "print(np.unique(pred_train_sgd))  \n",
    "pred_test_sgd = class_sgd.predict(Xtest)\n",
    "print(np.unique(pred_test_sgd)) "
   ]
  },
  {
   "cell_type": "code",
   "execution_count": 39,
   "metadata": {
    "collapsed": false
   },
   "outputs": [
    {
     "name": "stdout",
     "output_type": "stream",
     "text": [
      "                precision    recall  f1-score   support\n",
      "\n",
      "not received-0       0.75      0.86      0.80      2294\n",
      "    received-1       0.22      0.13      0.16       736\n",
      "\n",
      "   avg / total       0.62      0.68      0.65      3030\n",
      "\n",
      "                precision    recall  f1-score   support\n",
      "\n",
      "not received-0       0.75      0.87      0.80       752\n",
      "    received-1       0.28      0.15      0.20       258\n",
      "\n",
      "   avg / total       0.63      0.69      0.65      1010\n",
      "\n"
     ]
    }
   ],
   "source": [
    "from sklearn.metrics import classification_report\n",
    "target_names = ['not received-0', 'received-1']\n",
    "print(classification_report(y_pred = pred_train_sgd, y_true=Ytrain, target_names=target_names))\n",
    "print(classification_report(y_pred = pred_test_sgd, y_true=Ytest, target_names=target_names))"
   ]
  },
  {
   "cell_type": "code",
   "execution_count": null,
   "metadata": {
    "collapsed": true
   },
   "outputs": [],
   "source": []
  }
 ],
 "metadata": {
  "kernelspec": {
   "display_name": "Python 2",
   "language": "python",
   "name": "python2"
  },
  "language_info": {
   "codemirror_mode": {
    "name": "ipython",
    "version": 2
   },
   "file_extension": ".py",
   "mimetype": "text/x-python",
   "name": "python",
   "nbconvert_exporter": "python",
   "pygments_lexer": "ipython2",
   "version": "2.7.13"
  }
 },
 "nbformat": 4,
 "nbformat_minor": 2
}
